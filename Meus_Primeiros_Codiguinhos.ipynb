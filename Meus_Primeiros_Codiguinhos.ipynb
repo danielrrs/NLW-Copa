{
  "nbformat": 4,
  "nbformat_minor": 0,
  "metadata": {
    "colab": {
      "provenance": [],
      "authorship_tag": "ABX9TyMpS+bvArrqEJibpa71oU29"
    },
    "kernelspec": {
      "name": "python3",
      "display_name": "Python 3"
    },
    "language_info": {
      "name": "python"
    }
  },
  "cells": [
    {
      "cell_type": "code",
      "source": [
        "import random\n",
        "\n",
        "print(\"*****************************************************\")\n",
        "print(\"Bem vindo ao Advinha jogo legal de advinhar!!!\")\n",
        "print(\"*****************************************************\")\n",
        "\n",
        "numero_secreto = random.randrange(1, 101)\n",
        "total_de_tentativas = 3\n",
        "pontos = 1000\n",
        "\n",
        "print(numero_secreto)\n",
        "\n",
        "print(\"Escolha a dificuldade do jogo:\")\n",
        "print(\"(1) Fácil (2) Médio (3) Difícil\")\n",
        "\n",
        "nivel = int(input(\"Defina o Nivel: \"))\n",
        "\n",
        "if(nivel == 1):\n",
        "   total_de_tentativas = 20\n",
        "elif(nivel == 2):\n",
        "   total_de_tentativas = 10\n",
        "else:\n",
        "   total_de_tentativas = 5\n",
        "\n",
        "\n",
        "\n",
        "for rodada in range(0, total_de_tentativas):\n",
        "  print(\"Tentativa {} de {}\".format(rodada, total_de_tentativas))\n",
        "  chute_str = input(\"Digite um numero entre 1 e 100:\")\n",
        "  print(\"Voce digitou\" , chute_str)\n",
        "  chute = int(chute_str)\n",
        "\n",
        "  if(chute < 1 or chute > 100):\n",
        "      print(\"O numero deve ser entre 1 e 100 seu burro\")\n",
        "\n",
        "  acertou = chute == numero_secreto\n",
        "  maior = chute > numero_secreto\n",
        "  menor = chute < numero_secreto\n",
        "\n",
        "\n",
        "  if(acertou):\n",
        "    print(\"Você acertou e fez {} pontos!\".format(round(pontos)))\n",
        "    print(\"Fim de jogo\")\n",
        "    break\n",
        "  else:\n",
        "    if (maior):\n",
        "        print(\"Você errou! O seu chute foi maior que o número secreto se lascou.\")\n",
        "    elif (menor):\n",
        "        print(\"Você errou! O seu chute foi menor que o número secreto deu mole.\")\n",
        "        pontos_perdidos = abs(numero_secreto - chute) / 3\n",
        "        pontos = pontos - pontos_perdidos\n",
        "\n",
        "\n",
        "\n",
        "  rodada = rodada +1\n",
        "\n",
        "\n",
        "\n",
        "\n",
        "\n",
        "\n",
        "\n",
        "\n"
      ],
      "metadata": {
        "id": "yub3AL1V9bt-"
      },
      "execution_count": null,
      "outputs": []
    },
    {
      "cell_type": "code",
      "source": [
        " contador = 0\n",
        "\n",
        "while(contador <= 20):\n",
        "  print(contador)\n",
        "  contador = contador + 1\n",
        "\n",
        "  if(contador > 10):\n",
        "    contador = contador + 4\n",
        "\n",
        "\n",
        "\n",
        "\n",
        "\n"
      ],
      "metadata": {
        "id": "6GyVaxdYX1Jq"
      },
      "execution_count": null,
      "outputs": []
    },
    {
      "cell_type": "code",
      "source": [
        "  for rodada in range(1,10):\n",
        "      print(rodada)\n",
        "\n",
        "\n",
        "  for rodada in range(1,10,2):\n",
        "      print(rodada)\n",
        ""
      ],
      "metadata": {
        "id": "-WeQb7mrBcIf"
      },
      "execution_count": null,
      "outputs": []
    },
    {
      "cell_type": "code",
      "source": [
        "print(\"Tentativa {0} de {1}\".format(1, 3))\n",
        "\n",
        "print(\"R$ {}\".format(1.59))\n",
        "\n",
        "print(\"R$ {:f}\".format(1.59))\n",
        "\n",
        "print(\"R$ {:.2f}\".format(1.59))\n",
        "\n",
        "print(\"Data {:02d}/{:02d}\".format(9, 4))"
      ],
      "metadata": {
        "id": "lrQJucm8JQIX"
      },
      "execution_count": null,
      "outputs": []
    }
  ]
}